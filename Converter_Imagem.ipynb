{
  "nbformat": 4,
  "nbformat_minor": 0,
  "metadata": {
    "colab": {
      "provenance": []
    },
    "kernelspec": {
      "name": "python3",
      "display_name": "Python 3"
    },
    "language_info": {
      "name": "python"
    }
  },
  "cells": [
    {
      "cell_type": "code",
      "execution_count": 2,
      "metadata": {
        "colab": {
          "base_uri": "https://localhost:8080/"
        },
        "id": "d-spLdP6GOAY",
        "outputId": "95772bc4-7ccf-4f4e-b537-c7c97b032f04"
      },
      "outputs": [
        {
          "output_type": "execute_result",
          "data": {
            "text/plain": [
              "True"
            ]
          },
          "metadata": {},
          "execution_count": 2
        }
      ],
      "source": [
        "import cv2\n",
        "image = cv2.imread(\"batman.jpg\")\n",
        "grey_img = cv2.cvtColor(image, cv2.COLOR_BGR2GRAY)\n",
        "invert = cv2.bitwise_not(grey_img)\n",
        "blur = cv2.GaussianBlur(invert, (21, 21), 0)\n",
        "invertedblur = cv2.bitwise_not(blur)\n",
        "sketch = cv2.divide(grey_img, invertedblur, scale=256.0)\n",
        "\n",
        "cv2.imwrite(\"sketch.png\", sketch)"
      ]
    }
  ]
}